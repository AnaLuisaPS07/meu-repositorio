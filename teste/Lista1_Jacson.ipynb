{
  "nbformat": 4,
  "nbformat_minor": 0,
  "metadata": {
    "colab": {
      "provenance": [],
      "authorship_tag": "ABX9TyO8ybMWvcuo02Y8aVikVcxS",
      "include_colab_link": true
    },
    "kernelspec": {
      "name": "python3",
      "display_name": "Python 3"
    },
    "language_info": {
      "name": "python"
    }
  },
  "cells": [
    {
      "cell_type": "markdown",
      "metadata": {
        "id": "view-in-github",
        "colab_type": "text"
      },
      "source": [
        "<a href=\"https://colab.research.google.com/github/AnaLuisaPS07/Meu-Reposit-rio/blob/main/Lista1_Jacson.ipynb\" target=\"_parent\"><img src=\"https://colab.research.google.com/assets/colab-badge.svg\" alt=\"Open In Colab\"/></a>"
      ]
    },
    {
      "cell_type": "markdown",
      "source": [],
      "metadata": {
        "id": "4kEZ5ckziMwW"
      }
    },
    {
      "cell_type": "code",
      "execution_count": null,
      "metadata": {
        "id": "tfN-vVlsiSJI"
      },
      "outputs": [],
      "source": [
        "Ana Luísa Pereira dos Santos - 202400913"
      ]
    },
    {
      "cell_type": "code",
      "source": [
        "Questão 1\n",
        "\n",
        "\n",
        "LEIA: N1, N2, N3\n",
        "MEDIA <- N1+N2+N3\n",
        "ESCREVA (MEDIA)\n",
        "  SE MEDIA > 6\n",
        "  ESCREVA (MEDIA)\n",
        "  ESCREVA (\"APROVADO\")\n",
        "  ESCREVA (MEDIA)\n",
        "  SENÃO (\"REPROVADO\")\n"
      ],
      "metadata": {
        "id": "Qfx8U--vIt4x"
      },
      "execution_count": null,
      "outputs": []
    },
    {
      "cell_type": "code",
      "source": [
        "QUESTÃO 2\n",
        "var\n",
        "ct, loop, tp, pp, pg, pa, pc: inteiro\n",
        "renda_total: real\n",
        "\n",
        "Escreva (\"Digite o número de casos de teste: \")\n",
        "Leia(ct)\n",
        "Escreva (\"Caso de teste \", loop, \": \")\n",
        "Leia (tp, pp, pg, pa, pc)\n",
        "Renda_total <- (pp * 1) + (pg * 5) + (pa * 10) + (pc * 20)\n",
        "Escreva (\"A RENDA DO JOGO N. \", loop, \" E = \", renda_total:0:2, \"\\n\")\n",
        "\n",
        "\n",
        "\n",
        "\n"
      ],
      "metadata": {
        "id": "9P576uMAI_9Y"
      },
      "execution_count": null,
      "outputs": []
    },
    {
      "cell_type": "markdown",
      "source": [
        "**QUESTÃO 3**\n",
        "\n",
        "Var\n",
        "\n",
        "n1, n2, n3, número, quadrado: inteiro\n",
        "\n",
        "\n",
        "Escreva (\"Digite um número: \")\n",
        "\n",
        "Leia (n1)\n",
        "\n",
        "Escreva (“Digite outro número: ”)\n",
        "\n",
        "Leia (n2)\n",
        "\n",
        "Escreva (“Digite mais um número: ”)\n",
        "\n",
        "Leia (n3)\n",
        "\n",
        "se n1 >= 10 ou n2 >= 10 ou n3 >= 10 então\n",
        "\n",
        "Escreva (\"DIGITO INVALIDO\")\n",
        "\n",
        "  Senão\n",
        "\n",
        "número <- (n1 * 100 + n2 * 10 + n3)\n",
        "\n",
        "quadrado <- número * número\n",
        "\n",
        "Escreva (número, \", \", quadrado)\n"
      ],
      "metadata": {
        "id": "_uBKc3CkXODJ"
      }
    },
    {
      "cell_type": "markdown",
      "source": [
        "**QUESTÃO 4**\n",
        "\n",
        "Var\n",
        "\n",
        "sm, kwgastos, valorkw, cc, cd: real\n",
        "    \n",
        "Escreva (\"Digite o valor do salário mínimo: R$ \")\n",
        "\n",
        "Leia(sm)\n",
        "\n",
        "Escreva (\"Digite a quantidade de kW gasta pela residência: \")\n",
        "\n",
        "Leia(kwgastos)\n",
        "\n",
        "valorkw <- (sm * 0.7) / 100\n",
        "\n",
        "cc <- kwgastos * valorkw  \n",
        "\n",
        "cd <- cc * 0.9\n",
        "\n",
        "Escreva (\"Esse é o custo por kW: R$ \", valorkw:0:2, \"\\n\")\n",
        "\n",
        "Escreva (\"Esse é o custo do consumo: R$ \", cc:0:2, \"\\n\")\n",
        "\n",
        "Escreva (\"Esse é o custo com desconto: R$ \", cd:0:2, \"\\n\")\n"
      ],
      "metadata": {
        "id": "DQpRhzQUX8wN"
      }
    },
    {
      "cell_type": "markdown",
      "source": [
        "**QUESTÃO 5**\n",
        "\n",
        "var\n",
        "\n",
        "cc, agua, conta: real\n",
        "\n",
        "tipo_consu: caractere\n",
        "\n",
        "Escreva (\"Digite a conta do cliente, o consumo de água e o tipo de consumidor (R - Residencial, C - Comercial, I - Industrial): \")\n",
        "\n",
        "Leia (cc, agua, tipo_consu)\n",
        "\n",
        "escolha tipo_consu\n",
        "\n",
        "   caso 'R'\n",
        "\n",
        "      conta <- 5.00 + 0.05 * agua\n",
        "\n",
        "    caso 'C'\n",
        "\n",
        "        se agua <= 80 então\n",
        "\n",
        "        conta <- 500.00\n",
        "\n",
        "      senão\n",
        "\n",
        "        conta <- 500.00 + 0.25 * (agua - 80)  \n",
        "\n",
        "caso 'I'\n",
        "\n",
        "   se agua <= 100 então\n",
        "\n",
        "   \tconta <- 800.00\n",
        "\n",
        "       senão\n",
        "\n",
        "   conta <- 800.00 + 0.04 * (agua - 100)\n",
        "\n",
        "        caso contrário\n",
        "\n",
        "            Escreva (\"Tipo de consumidor inválido!\")\n",
        "\n",
        "            retorne\n",
        "\n",
        "Escreva (\"CONTA = \", conta, \"\\n\")\n",
        "\n",
        "Escreva (\"VALOR DA CONTA = \", valor_conta:0:2, \"\\n\")\n"
      ],
      "metadata": {
        "id": "F0mZQ2pfYGlu"
      }
    },
    {
      "cell_type": "markdown",
      "source": [
        "**QUESTÃO 6**\n",
        "\n",
        "var\n",
        "\n",
        "n, loop: inteiro\n",
        "\n",
        "tf, tc: real\n",
        "\n",
        "Escreva (\"Digite o número de temperaturas para serem convertidas: \")\n",
        "\n",
        "Leia (n)\n",
        "\n",
        "Escreva (\"Digite a temperatura em Fahrenheit \", loop, \": \")\n",
        "\n",
        "Leia (tf)\n",
        "\n",
        "tc <- 5 * (tf - 32) / 9\n",
        "\n",
        "Escreva (tf, \" FAHRENHEIT EQUIVALE A \", tc:0:2, \" CELSIUS\\n\")\n"
      ],
      "metadata": {
        "id": "hbLWI06GYeUy"
      }
    },
    {
      "cell_type": "markdown",
      "source": [
        "**QUESTÃO 7**\n",
        "\n",
        "var\n",
        "\n",
        "tf, tc, chuva_polegadas, chuva_mm: real\n",
        "\n",
        "Escreva (\"Digite a temperatura em Fahrenheit: \")\n",
        "\n",
        "Leia(tf)\n",
        "\n",
        "Escreva (\"Digite a quantidade de chuva em polegadas: \")\n",
        "\n",
        "Leia(chuva_polegadas)\n",
        "\n",
        "tc <- (5 * tf - 160) / 9\n",
        "\n",
        "chuva_mm <- chuva_polegadas * 25.4\n",
        "\n",
        "Escreva (\"O VALOR EM CELSIUS = \", temperatura_celsius:0:2, \"\\n\")\n",
        "\n",
        "Escreva (\"A QUANTIDADE DE CHUVA É = \", quantidade_chuva_mm:0:2, \"\\n\")\n"
      ],
      "metadata": {
        "id": "5exXjRjMYpUC"
      }
    },
    {
      "cell_type": "markdown",
      "source": [
        "**QUESTÃO 8**\n",
        "\n",
        "const\n",
        "    pi: real = 3.14159\n",
        "\n",
        "var\n",
        "    raio, altura, circulo, lateral, total, custo: real\n",
        "\n",
        "Escreva (\"Digite o raio da lata (em metros): \")\n",
        "\n",
        "Leia (raio)\n",
        "\n",
        "Escreva (\"Digite a altura da lata (em metros): \")\n",
        "\n",
        "Leia (altura)\n",
        "\n",
        "circulo <- (pi * raio * raio)\n",
        "\n",
        "lateral <- 2 * pi * raio * altura\n",
        "\n",
        "total <- (2 * circulo + lateral)\n",
        "\n",
        "custo <- (total * 100)\n",
        "\n",
        "Escreva (\"O VALOR DO CUSTO É = \", custo:0:2, \"\\n\")\n"
      ],
      "metadata": {
        "id": "0ZsVQgH2YyJr"
      }
    },
    {
      "cell_type": "markdown",
      "source": [
        "**QUESTÃO 9**\n",
        "\n",
        "var\n",
        "A, B, C, delta: real\n",
        "\n",
        "Escreva (\"Digite o coeficiente A: \")\n",
        "\n",
        "Leia(A)\n",
        "\n",
        "Escreva (\"Digite o coeficiente B: \")\n",
        "\n",
        "Leia(B)\n",
        "\n",
        "Escreva (\"Digite o coeficiente C: \")\n",
        "\n",
        "Leia(C)\n",
        "\n",
        "delta <- (B * B - 4 * A * C)\n",
        "\n",
        "Escreva (\"O VALOR DE DELTA É = \", delta:0:2, \"\\n\")\n",
        "\n"
      ],
      "metadata": {
        "id": "v-z6tVZ9Y9Qj"
      }
    },
    {
      "cell_type": "markdown",
      "source": [
        "***QUESTÃO 10 ***\n",
        "\n",
        "var\n",
        "\n",
        "a, b, c, d, determinante: real\n",
        "\n",
        "Escreva (\"Digite o valor de a: \")\n",
        "\n",
        "Leia(a)\n",
        "\n",
        "Escreva (\"Digite o valor de b: \")\n",
        "\n",
        "Leia(b)\n",
        "\n",
        "Escreva (\"Digite o valor de c: \")\n",
        "\n",
        "Leia(c)\n",
        "\n",
        "Escreva (\"Digite o valor de d: \")\n",
        "\n",
        "Leia(d)\n",
        "\n",
        "determinante <- (a * d) - (b * c)\n",
        "\n",
        "Escreva (\"O VALOR DO DETERMINANTE É = \", determinante:0:2, \"\\n\")\n"
      ],
      "metadata": {
        "id": "koI8E-KjZEzq"
      }
    },
    {
      "cell_type": "markdown",
      "source": [
        "**QUESTÃO 11**\n",
        "\n",
        "Var\n",
        "n: inteiro\n",
        "\n",
        "Escreva (“Digite um número: ”)\n",
        "\n",
        "Leia (n)\n",
        "\n",
        "Se (n % 3 = 0) e (n % 5 = 0) então\n",
        "\n",
        "Escreva (\"O número é divisível\\n\")\n",
        "\n",
        " Senão\n",
        "\n",
        "Escreva (\"O número não é divisível\\n\")\n",
        "\n"
      ],
      "metadata": {
        "id": "wj_T9b_cZNHc"
      }
    },
    {
      "cell_type": "markdown",
      "source": [
        "**QUESTÃO 12**\n",
        "\n",
        "Var\n",
        "horas, valor: inteiro\n",
        "\n",
        "Escreva (“Digite o total de horas usadas: ”)\n",
        "\n",
        "Leia (horas)\n",
        "\n",
        "se horas>= 3 então\n",
        "\n",
        "valor<- (horas/ 3) * 10\n",
        "\n",
        "Senão\n",
        "\n",
        "valor<- (10 + (horas- 3) * 5)\n",
        "\n",
        "Fimse\n",
        "\n",
        "Escreva (“O valor a pagar é”, valor: 0.2, /n)\n"
      ],
      "metadata": {
        "id": "asq77xTsZTNr"
      }
    },
    {
      "cell_type": "markdown",
      "source": [
        "**QUESTÃO 13**\n",
        "\n",
        "var\n",
        "    nota: real\n",
        "    conceito: caractere\n",
        "\n",
        "Escreva (\"Digite a nota do aluno: \")\n",
        "\n",
        "Leia(nota)\n",
        "\n",
        "se (nota >= 9.0) então\n",
        "\n",
        "   conceito <- 'A'\n",
        "\n",
        "senão se (nota >= 7.5) então\n",
        "\n",
        "    conceito <- 'B'\n",
        "\n",
        "senão se (nota >= 6.0) então\n",
        "\n",
        "    conceito <- 'C'\n",
        "\n",
        "senão\n",
        "        conceito <- 'D'\n",
        "\n",
        "    fimse\n",
        "\n",
        "Escreva (\"NOTA = \", nota:1:1, \" CONCEITO = \", conceito, \"\\n\")\n",
        "\n"
      ],
      "metadata": {
        "id": "NJMo_EKNZaVq"
      }
    },
    {
      "cell_type": "markdown",
      "source": [
        "**QUESTÃO 14**\n",
        "\n",
        "var\n",
        "    altura, aresta, base, volume: real\n",
        "\n",
        "Escreva (\"Digite a altura da pirâmide e o comprimento da aresta do hexágono: \")\n",
        "\n",
        "Leia (altura, aresta)\n",
        "\n",
        "base <- (3 * aresta^2 * raizq(3)) / 2\n",
        "\n",
        "volume <- ((1.0/3) * base * altura )\n",
        "\n",
        "Escreva (\"O VOLUME DA PIRAMIDE É = \", volume:0.2, \" METROS CUBICOS\\n\")\n"
      ],
      "metadata": {
        "id": "d_AJeDfdZpBS"
      }
    },
    {
      "cell_type": "markdown",
      "source": [
        "**QUESTÃO 15**\n",
        "\n",
        "var\n",
        "    n, valor: inteiro\n",
        "\n",
        "Escreva (\"Digite um valor inteiro N (5 < N < 2000): \")\n",
        "\n",
        "Leia(N)\n",
        "\n",
        " Para valor de 1 até n faca\n",
        "\n",
        "        se valor % 2 = 0 então\n",
        "\n",
        "Escreva (valor, \"^2 = \", valor * valor, \"\\n\")\n",
        "\n",
        "        fimse\n",
        "\n",
        "    fimpara\n",
        "\n",
        "\n",
        "\n"
      ],
      "metadata": {
        "id": "f4EQZuPNZwQy"
      }
    },
    {
      "cell_type": "markdown",
      "source": [],
      "metadata": {
        "id": "tyLJ7ydbXj_T"
      }
    },
    {
      "cell_type": "markdown",
      "source": [
        "**QUESTÃO 16**\n",
        "\n",
        "var\n",
        "    salario, reajustado: real\n",
        "\n",
        "Escreva (\"Digite o salário do funcionário: \")\n",
        "\n",
        "Leia (salario)\n",
        "\n",
        "  se salario <= 300 então\n",
        "\n",
        " reajustado <- salario + (salario * 0.5)\n",
        "\n",
        "  senao\n",
        "\n",
        "       reajustado <- salario + (salario * 0.3)\n",
        "\n",
        "    fimse\n",
        "\n",
        "Escreva (\"Salário com reajuste = \", reajustado:0.2, \"\\n\")\n"
      ],
      "metadata": {
        "id": "WAlxSIroZ5QK"
      }
    },
    {
      "cell_type": "markdown",
      "source": [
        "**QUESTÃO 17**\n",
        "\n",
        "var\n",
        "    x, y, i: inteiro\n",
        "\n",
        "Escreva (\"Digite dois números inteiros separados por espaço: \")\n",
        "\n",
        "Leia (x, y)\n",
        "\n",
        "Se x % 2 = 0 então\n",
        "\n",
        "Escreva (\"Sequência de números pares: \")\n",
        "\n",
        "Para i de 0 até y - 1 faca\n",
        "\n",
        "Escreva (x + i*2, \" \")\n",
        "\n",
        "        FimPara\n",
        "\n",
        "Escreva (\" \")\n",
        "\n",
        "    Senão\n",
        "\n",
        "Escreva (\"O PRIMEIRO NUMERO NAO É PAR\")\n",
        "\n",
        "Escreva (\" \")\n",
        "\n",
        "    FimSe\n",
        "\n"
      ],
      "metadata": {
        "id": "HViJWfHiaAFz"
      }
    },
    {
      "cell_type": "markdown",
      "source": [
        "**QUESTÃO 18**\n",
        "\n",
        "Var\n",
        "    a1, r, n, soma, i: Inteiro\n",
        "\n",
        "Escreva (\"Digite o primeiro elemento da PA: \")\n",
        "\n",
        "Leia(a1)\n",
        "\n",
        "Escreva (\"Digite a razão da PA: \")\n",
        "\n",
        "Leia(r)\n",
        "\n",
        "Escreva (\"Digite o número de termos da PA: \")\n",
        "\n",
        "Leia(n)\n",
        "\n",
        "soma <- 0\n",
        "\n",
        "Para i de 1 até n faca\n",
        "\n",
        "soma <- (soma + a1 + (i - 1) * r)\n",
        "\n",
        " FimPara\n",
        "\n",
        "Escreva (\"A soma dos \", n, \" primeiros termos da PA é: \", soma)\n",
        "\n"
      ],
      "metadata": {
        "id": "lM8qhuSTaKYy"
      }
    },
    {
      "cell_type": "markdown",
      "source": [
        "**QUESTÃO 19**\n",
        "\n",
        "var\n",
        "    n, k: inteiro\n",
        "    S: real\n",
        "\n",
        "Escreva (\"Digite um número inteiro positivo maior que 1: \")\n",
        "\n",
        "Leia(n)\n",
        "\n",
        "se n <= 1 então\n",
        "\n",
        "Escreva (\"Número invalido!\")\n",
        "\n",
        "senão\n",
        "    S <- 0\n",
        "\n",
        "   para k de 1 até n faca\n",
        "\n",
        "   S <- (S + 1.0 / k)\n",
        "\n",
        "Escreva (\"S = \", S:0:6)\n"
      ],
      "metadata": {
        "id": "J17DLPhOaPPS"
      }
    },
    {
      "cell_type": "markdown",
      "source": [
        "**QUESTÃO 20**\n",
        "\n",
        "Var\n",
        "horas, minutos, segundos, resultado: inteiro\n",
        "\n",
        "Escreva (\"Digite o valor das horas: \")\n",
        "\n",
        "Leia (horas)\n",
        "\n",
        "Escreva (\"Digite o valor dos minutos: \")\n",
        "\n",
        "Leia (minutos)\n",
        "\n",
        "Escreva (\"Digite o valor dos segundos: \")\n",
        "\n",
        "Leia (segundos)\n",
        "\n",
        "resultado <- (horas * 3600) + (minutos * 60) + segundos\n",
        "\n",
        "Escreva (\"O TEMPO EM SEGUNDOS É = \", resultado)\n",
        "\n",
        "Escreva (\" \")\n",
        "\n"
      ],
      "metadata": {
        "id": "Zfw9Ei5FaVbb"
      }
    }
  ]
}